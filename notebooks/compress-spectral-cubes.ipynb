{
 "cells": [
  {
   "cell_type": "code",
   "execution_count": 1,
   "id": "8a107d1e-4928-442c-913a-d5925f2ba6f1",
   "metadata": {
    "tags": []
   },
   "outputs": [],
   "source": [
    "import pathlib\n",
    "import astropy.io.fits\n",
    "import sunpy.io._fits as sunpy_fits\n",
    "from mocksipipeline.util import read_data_cube\n",
    "import distributed"
   ]
  },
  {
   "cell_type": "code",
   "execution_count": 2,
   "id": "466f1d34-1c78-425f-89c7-1db30b9bdb72",
   "metadata": {
    "tags": []
   },
   "outputs": [],
   "source": [
    "client = distributed.Client()"
   ]
  },
  {
   "cell_type": "code",
   "execution_count": 3,
   "id": "e5853671-f133-44a5-8941-4b7b6e6077c2",
   "metadata": {
    "tags": []
   },
   "outputs": [],
   "source": [
    "def compress_spectral_cube(fname):\n",
    "    spec_cube = read_data_cube(fname)\n",
    "    sunpy_fits.write(fname,\n",
    "                     spec_cube.data,\n",
    "                     spec_cube.meta,\n",
    "                     hdu_type=astropy.io.fits.CompImageHDU,\n",
    "                     overwrite=True)"
   ]
  },
  {
   "cell_type": "code",
   "execution_count": 4,
   "id": "7223c936-d975-40c3-a90d-4c83e1da96fa",
   "metadata": {
    "tags": []
   },
   "outputs": [],
   "source": [
    "top_dir = pathlib.Path('/Users/wtbarnes/Documents/presentations/sphere-workshop-2023-talk/pipeline/data/')"
   ]
  },
  {
   "cell_type": "code",
   "execution_count": 5,
   "id": "7cc1a198-b8aa-4d99-8f38-5378bbf38acf",
   "metadata": {
    "tags": []
   },
   "outputs": [
    {
     "name": "stdout",
     "output_type": "stream",
     "text": [
      "p0.05\n",
      "p0.005\n",
      "p0.01\n",
      "p0.3\n"
     ]
    }
   ],
   "source": [
    "for freq_dir in top_dir.glob('p*'):\n",
    "    print(freq_dir.name)\n",
    "    spectral_files = list((freq_dir / 'spectra').glob('spec_cube_t*.fits'))\n",
    "    tasks = client.map(compress_spectral_cube, spectral_files)\n",
    "    distributed.wait(tasks)"
   ]
  },
  {
   "cell_type": "code",
   "execution_count": null,
   "id": "01fbc5b9-6c8c-4d46-bc1a-7d1b1f818e1a",
   "metadata": {},
   "outputs": [],
   "source": []
  }
 ],
 "metadata": {
  "kernelspec": {
   "display_name": "Python [conda env:mocksipipeline]",
   "language": "python",
   "name": "conda-env-mocksipipeline-py"
  },
  "language_info": {
   "codemirror_mode": {
    "name": "ipython",
    "version": 3
   },
   "file_extension": ".py",
   "mimetype": "text/x-python",
   "name": "python",
   "nbconvert_exporter": "python",
   "pygments_lexer": "ipython3",
   "version": "3.9.13"
  }
 },
 "nbformat": 4,
 "nbformat_minor": 5
}
